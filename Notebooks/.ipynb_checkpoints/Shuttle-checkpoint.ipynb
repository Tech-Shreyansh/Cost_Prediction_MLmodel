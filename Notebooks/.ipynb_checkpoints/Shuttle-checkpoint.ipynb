{
 "cells": [
  {
   "cell_type": "code",
   "execution_count": 37,
   "id": "eccdc93c",
   "metadata": {},
   "outputs": [],
   "source": [
    "import numpy as np\n",
    "import pandas as pd\n",
    "from sklearn.linear_model import LinearRegression \n",
    "from sklearn import metrics\n",
    "import math\n",
    "from sklearn import linear_model"
   ]
  },
  {
   "cell_type": "code",
   "execution_count": 38,
   "id": "72915ba6",
   "metadata": {},
   "outputs": [
    {
     "data": {
      "text/html": [
       "<div>\n",
       "<style scoped>\n",
       "    .dataframe tbody tr th:only-of-type {\n",
       "        vertical-align: middle;\n",
       "    }\n",
       "\n",
       "    .dataframe tbody tr th {\n",
       "        vertical-align: top;\n",
       "    }\n",
       "\n",
       "    .dataframe thead th {\n",
       "        text-align: right;\n",
       "    }\n",
       "</style>\n",
       "<table border=\"1\" class=\"dataframe\">\n",
       "  <thead>\n",
       "    <tr style=\"text-align: right;\">\n",
       "      <th></th>\n",
       "      <th>Country</th>\n",
       "      <th>Commodity</th>\n",
       "      <th>Flow</th>\n",
       "      <th>Quantity</th>\n",
       "      <th>Category</th>\n",
       "      <th>Volume (m^3)</th>\n",
       "      <th>Distance from India (m)</th>\n",
       "      <th>Frieght Cost (USD)</th>\n",
       "    </tr>\n",
       "  </thead>\n",
       "  <tbody>\n",
       "    <tr>\n",
       "      <th>0</th>\n",
       "      <td>Albania</td>\n",
       "      <td>Poultry cuts &amp; offal, except livers, fresh or ...</td>\n",
       "      <td>Export</td>\n",
       "      <td>34</td>\n",
       "      <td>02_meat_and_edible_meat_offal</td>\n",
       "      <td>12</td>\n",
       "      <td>5940.830501</td>\n",
       "      <td>4840.697837</td>\n",
       "    </tr>\n",
       "    <tr>\n",
       "      <th>1</th>\n",
       "      <td>Albania</td>\n",
       "      <td>Poultry cuts &amp; offal, except livers, fresh or ...</td>\n",
       "      <td>Export</td>\n",
       "      <td>23</td>\n",
       "      <td>02_meat_and_edible_meat_offal</td>\n",
       "      <td>12</td>\n",
       "      <td>5940.830501</td>\n",
       "      <td>3069.710823</td>\n",
       "    </tr>\n",
       "    <tr>\n",
       "      <th>2</th>\n",
       "      <td>Albania</td>\n",
       "      <td>Swine meat, salted/dried/smoked not ham/should...</td>\n",
       "      <td>Export</td>\n",
       "      <td>11</td>\n",
       "      <td>02_meat_and_edible_meat_offal</td>\n",
       "      <td>12</td>\n",
       "      <td>5940.830501</td>\n",
       "      <td>1475.822511</td>\n",
       "    </tr>\n",
       "    <tr>\n",
       "      <th>3</th>\n",
       "      <td>Albania</td>\n",
       "      <td>Fowls, domestic, whole, frozen</td>\n",
       "      <td>Export</td>\n",
       "      <td>50</td>\n",
       "      <td>02_meat_and_edible_meat_offal</td>\n",
       "      <td>12</td>\n",
       "      <td>5940.830501</td>\n",
       "      <td>7083.948054</td>\n",
       "    </tr>\n",
       "    <tr>\n",
       "      <th>4</th>\n",
       "      <td>Albania</td>\n",
       "      <td>Meat and edible offal nes fresh, chilled or fr...</td>\n",
       "      <td>Export</td>\n",
       "      <td>71</td>\n",
       "      <td>02_meat_and_edible_meat_offal</td>\n",
       "      <td>12</td>\n",
       "      <td>5940.830501</td>\n",
       "      <td>9976.560176</td>\n",
       "    </tr>\n",
       "  </tbody>\n",
       "</table>\n",
       "</div>"
      ],
      "text/plain": [
       "   Country                                          Commodity    Flow  \\\n",
       "0  Albania  Poultry cuts & offal, except livers, fresh or ...  Export   \n",
       "1  Albania  Poultry cuts & offal, except livers, fresh or ...  Export   \n",
       "2  Albania  Swine meat, salted/dried/smoked not ham/should...  Export   \n",
       "3  Albania                     Fowls, domestic, whole, frozen  Export   \n",
       "4  Albania  Meat and edible offal nes fresh, chilled or fr...  Export   \n",
       "\n",
       "   Quantity                       Category  Volume (m^3)  \\\n",
       "0        34  02_meat_and_edible_meat_offal            12   \n",
       "1        23  02_meat_and_edible_meat_offal            12   \n",
       "2        11  02_meat_and_edible_meat_offal            12   \n",
       "3        50  02_meat_and_edible_meat_offal            12   \n",
       "4        71  02_meat_and_edible_meat_offal            12   \n",
       "\n",
       "   Distance from India (m)  Frieght Cost (USD)  \n",
       "0              5940.830501         4840.697837  \n",
       "1              5940.830501         3069.710823  \n",
       "2              5940.830501         1475.822511  \n",
       "3              5940.830501         7083.948054  \n",
       "4              5940.830501         9976.560176  "
      ]
     },
     "execution_count": 38,
     "metadata": {},
     "output_type": "execute_result"
    }
   ],
   "source": [
    "df1 = pd.read_excel('Dataset_Hackathon.xlsx')\n",
    "df1.head()"
   ]
  },
  {
   "cell_type": "code",
   "execution_count": 39,
   "id": "88d29b07",
   "metadata": {},
   "outputs": [
    {
     "data": {
      "text/html": [
       "<div>\n",
       "<style scoped>\n",
       "    .dataframe tbody tr th:only-of-type {\n",
       "        vertical-align: middle;\n",
       "    }\n",
       "\n",
       "    .dataframe tbody tr th {\n",
       "        vertical-align: top;\n",
       "    }\n",
       "\n",
       "    .dataframe thead th {\n",
       "        text-align: right;\n",
       "    }\n",
       "</style>\n",
       "<table border=\"1\" class=\"dataframe\">\n",
       "  <thead>\n",
       "    <tr style=\"text-align: right;\">\n",
       "      <th></th>\n",
       "      <th>Quantity</th>\n",
       "      <th>Volume (m^3)</th>\n",
       "      <th>Distance from India (m)</th>\n",
       "      <th>Frieght Cost (USD)</th>\n",
       "    </tr>\n",
       "  </thead>\n",
       "  <tbody>\n",
       "    <tr>\n",
       "      <th>0</th>\n",
       "      <td>34</td>\n",
       "      <td>12</td>\n",
       "      <td>5940.830501</td>\n",
       "      <td>4840.697837</td>\n",
       "    </tr>\n",
       "    <tr>\n",
       "      <th>1</th>\n",
       "      <td>23</td>\n",
       "      <td>12</td>\n",
       "      <td>5940.830501</td>\n",
       "      <td>3069.710823</td>\n",
       "    </tr>\n",
       "    <tr>\n",
       "      <th>2</th>\n",
       "      <td>11</td>\n",
       "      <td>12</td>\n",
       "      <td>5940.830501</td>\n",
       "      <td>1475.822511</td>\n",
       "    </tr>\n",
       "    <tr>\n",
       "      <th>3</th>\n",
       "      <td>50</td>\n",
       "      <td>12</td>\n",
       "      <td>5940.830501</td>\n",
       "      <td>7083.948054</td>\n",
       "    </tr>\n",
       "    <tr>\n",
       "      <th>4</th>\n",
       "      <td>71</td>\n",
       "      <td>12</td>\n",
       "      <td>5940.830501</td>\n",
       "      <td>9976.560176</td>\n",
       "    </tr>\n",
       "  </tbody>\n",
       "</table>\n",
       "</div>"
      ],
      "text/plain": [
       "   Quantity  Volume (m^3)  Distance from India (m)  Frieght Cost (USD)\n",
       "0        34            12              5940.830501         4840.697837\n",
       "1        23            12              5940.830501         3069.710823\n",
       "2        11            12              5940.830501         1475.822511\n",
       "3        50            12              5940.830501         7083.948054\n",
       "4        71            12              5940.830501         9976.560176"
      ]
     },
     "execution_count": 39,
     "metadata": {},
     "output_type": "execute_result"
    }
   ],
   "source": [
    "X1 = df1.drop(['Country', 'Commodity','Flow','Category'], axis = 1)\n",
    "X1.head()"
   ]
  },
  {
   "cell_type": "code",
   "execution_count": 42,
   "id": "50dbb6de",
   "metadata": {},
   "outputs": [
    {
     "name": "stdout",
     "output_type": "stream",
     "text": [
      "Collecting xgboost\n",
      "  Downloading xgboost-1.7.3-py3-none-macosx_12_0_arm64.whl (1.6 MB)\n",
      "\u001b[2K     \u001b[38;2;114;156;31m━━━━━━━━━━━━━━━━━━━━━━━━━━━━━━━━━━━━━━━━\u001b[0m \u001b[32m1.6/1.6 MB\u001b[0m \u001b[31m1.8 MB/s\u001b[0m eta \u001b[36m0:00:00\u001b[0m MB/s\u001b[0m eta \u001b[36m0:00:01\u001b[0m:01\u001b[0m\n",
      "\u001b[?25hRequirement already satisfied: scipy in /Library/Frameworks/Python.framework/Versions/3.10/lib/python3.10/site-packages (from xgboost) (1.10.0)\n",
      "Requirement already satisfied: numpy in /Library/Frameworks/Python.framework/Versions/3.10/lib/python3.10/site-packages (from xgboost) (1.24.1)\n",
      "Installing collected packages: xgboost\n",
      "Successfully installed xgboost-1.7.3\n",
      "Note: you may need to restart the kernel to use updated packages.\n"
     ]
    }
   ],
   "source": [
    "pip install xgboost"
   ]
  },
  {
   "cell_type": "code",
   "execution_count": 41,
   "id": "ef983b78",
   "metadata": {},
   "outputs": [
    {
     "ename": "SyntaxError",
     "evalue": "invalid syntax (441093844.py, line 3)",
     "output_type": "error",
     "traceback": [
      "\u001b[0;36m  Cell \u001b[0;32mIn[41], line 3\u001b[0;36m\u001b[0m\n\u001b[0;31m    pip install xgboost\u001b[0m\n\u001b[0m        ^\u001b[0m\n\u001b[0;31mSyntaxError\u001b[0m\u001b[0;31m:\u001b[0m invalid syntax\n"
     ]
    }
   ],
   "source": [
    "X = X1.drop(\"Frieght Cost (USD)\", axis=\"columns\")\n",
    "Y = X1[\"Frieght Cost (USD)\"]\n",
    "from sklearn.model_selection import train_test_split\n",
    "X_train, X_test, Y_train, Y_test = train_test_split(X, Y, test_size=0.4)\n",
    "import xgboost as xgb\n",
    "mymodel = xgb.XGBRegressor(verbosity=0)\n",
    "# mymodel = linear_model.LinearRegression()\n",
    "mymodel.fit(X_train, Y_train)"
   ]
  },
  {
   "cell_type": "code",
   "execution_count": null,
   "id": "64f0a0c4",
   "metadata": {},
   "outputs": [],
   "source": [
    "y = df1['Frieght Cost (USD)']\n",
    "\n",
    "lr = LinearRegression() \n",
    "lr.fit(X, y)  \n",
    "pred = lr.predict(X) "
   ]
  },
  {
   "cell_type": "code",
   "execution_count": null,
   "id": "06a164e4",
   "metadata": {},
   "outputs": [],
   "source": [
    "mymodel.intercept_"
   ]
  },
  {
   "cell_type": "code",
   "execution_count": null,
   "id": "44837189",
   "metadata": {},
   "outputs": [],
   "source": [
    "mymodel.coef_"
   ]
  },
  {
   "cell_type": "code",
   "execution_count": null,
   "id": "867d7800",
   "metadata": {},
   "outputs": [],
   "source": [
    "mymodel.predict(X_test)"
   ]
  },
  {
   "cell_type": "code",
   "execution_count": null,
   "id": "eb0273c6",
   "metadata": {},
   "outputs": [],
   "source": [
    "Y_test"
   ]
  },
  {
   "cell_type": "code",
   "execution_count": null,
   "id": "0ed3799e",
   "metadata": {},
   "outputs": [],
   "source": [
    "mymodel.score(X_test,Y_test)"
   ]
  },
  {
   "cell_type": "code",
   "execution_count": null,
   "id": "135d199f",
   "metadata": {},
   "outputs": [],
   "source": [
    "y_pred = mymodel.predict(X_test)"
   ]
  },
  {
   "cell_type": "code",
   "execution_count": 32,
   "id": "6ef50972",
   "metadata": {},
   "outputs": [
    {
     "name": "stderr",
     "output_type": "stream",
     "text": [
      "/Library/Frameworks/Python.framework/Versions/3.10/lib/python3.10/site-packages/sklearn/base.py:420: UserWarning: X does not have valid feature names, but LinearRegression was fitted with feature names\n",
      "  warnings.warn(\n"
     ]
    },
    {
     "data": {
      "text/plain": [
       "array([4964.89395037])"
      ]
     },
     "execution_count": 32,
     "metadata": {},
     "output_type": "execute_result"
    }
   ],
   "source": [
    "mymodel.predict([[34,12,5940.83050148322]])"
   ]
  },
  {
   "cell_type": "code",
   "execution_count": 20,
   "id": "f3496b78",
   "metadata": {},
   "outputs": [
    {
     "name": "stdout",
     "output_type": "stream",
     "text": [
      "Mean Absolute Error: 1833.6548492131853\n",
      "Mean Squared Error: 7721884.407813215\n",
      "Root Mean Squared Error: 2778.827883805187\n",
      "R2: 0.8378613371603065\n"
     ]
    }
   ],
   "source": [
    "print('Mean Absolute Error:', metrics.mean_absolute_error(y, pred))  \n",
    "print('Mean Squared Error:', metrics.mean_squared_error(y, pred))  \n",
    "print('Root Mean Squared Error:', np.sqrt(metrics.mean_squared_error(y, pred)))\n",
    "print('R2:', np.sqrt(metrics.r2_score(y, pred)))"
   ]
  },
  {
   "cell_type": "code",
   "execution_count": 21,
   "id": "e6751467",
   "metadata": {},
   "outputs": [
    {
     "name": "stdout",
     "output_type": "stream",
     "text": [
      "The predicted price: 4980.03571976234\n"
     ]
    },
    {
     "name": "stderr",
     "output_type": "stream",
     "text": [
      "/Library/Frameworks/Python.framework/Versions/3.10/lib/python3.10/site-packages/sklearn/base.py:420: UserWarning: X does not have valid feature names, but LinearRegression was fitted with feature names\n",
      "  warnings.warn(\n"
     ]
    }
   ],
   "source": [
    "features = [[34,12,5940.83]]\n",
    "print('The predicted price:', lr.predict(features)[0])"
   ]
  },
  {
   "cell_type": "code",
   "execution_count": 12,
   "id": "52c16717",
   "metadata": {},
   "outputs": [
    {
     "data": {
      "text/plain": [
       "['./../Savedmodels/model.joblib']"
      ]
     },
     "execution_count": 12,
     "metadata": {},
     "output_type": "execute_result"
    }
   ],
   "source": [
    "from joblib import dump\n",
    "dump(lr,'./../Savedmodels/model.joblib')"
   ]
  },
  {
   "cell_type": "code",
   "execution_count": null,
   "id": "9358d741",
   "metadata": {},
   "outputs": [],
   "source": []
  }
 ],
 "metadata": {
  "kernelspec": {
   "display_name": "Python 3 (ipykernel)",
   "language": "python",
   "name": "python3"
  },
  "language_info": {
   "codemirror_mode": {
    "name": "ipython",
    "version": 3
   },
   "file_extension": ".py",
   "mimetype": "text/x-python",
   "name": "python",
   "nbconvert_exporter": "python",
   "pygments_lexer": "ipython3",
   "version": "3.10.8"
  }
 },
 "nbformat": 4,
 "nbformat_minor": 5
}
